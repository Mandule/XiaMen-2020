{
 "cells": [
  {
   "cell_type": "code",
   "execution_count": 1,
   "metadata": {},
   "outputs": [],
   "source": [
    "import gc\n",
    "from tqdm import tqdm\n",
    "import pandas as pd\n",
    "import numpy as np\n",
    "import matplotlib.pyplot as plt\n",
    "import seaborn as sns\n",
    "import warnings\n",
    "warnings.filterwarnings('ignore')\n",
    "tqdm.pandas(desc='pandas bar')\n",
    "pd.set_option('display.max_columns', None)"
   ]
  },
  {
   "cell_type": "code",
   "execution_count": 2,
   "metadata": {},
   "outputs": [],
   "source": [
    "y_q3 = pd.read_csv('data/y_Q3.csv')\n",
    "y_q4 = pd.read_csv('data/y_Q4.csv')"
   ]
  },
  {
   "cell_type": "code",
   "execution_count": 3,
   "metadata": {},
   "outputs": [
    {
     "data": {
      "text/plain": [
       "<AxesSubplot:xlabel='label', ylabel='count'>"
      ]
     },
     "execution_count": 3,
     "metadata": {},
     "output_type": "execute_result"
    },
    {
     "data": {
      "image/png": "[encoded data removed]",
      "text/plain": [
       "<Figure size 432x288 with 1 Axes>"
      ]
     },
     "metadata": {
      "needs_background": "light"
     },
     "output_type": "display_data"
    }
   ],
   "source": [
    "sns.countplot(y_q3.label)"
   ]
  },
  {
   "cell_type": "code",
   "execution_count": 4,
   "metadata": {},
   "outputs": [
    {
     "data": {
      "text/plain": [
       "<AxesSubplot:xlabel='label', ylabel='count'>"
      ]
     },
     "execution_count": 4,
     "metadata": {},
     "output_type": "execute_result"
    },
    {
     "data": {
      "image/png": "[encoded data removed]",
      "text/plain": [
       "<Figure size 432x288 with 1 Axes>"
      ]
     },
     "metadata": {
      "needs_background": "light"
     },
     "output_type": "display_data"
    }
   ],
   "source": [
    "sns.countplot(y_q4.label)"
   ]
  },
  {
   "cell_type": "markdown",
   "metadata": {},
   "source": [
    "# 1. 用户资产数据\n",
    "* cust_no：用户id\n",
    "* X1：结构性存余额\n",
    "* X2：定期存款余额\n",
    "* X3：活期存款余额\n",
    "* X4：理财余额\n",
    "* X5：基金余额\n",
    "* X6：资管余额\n",
    "* X7：贷款余额\n",
    "* X8：大额存单余额"
   ]
  },
  {
   "cell_type": "code",
   "execution_count": 5,
   "metadata": {},
   "outputs": [
    {
     "data": {
      "text/html": [
       "<div>\n",
       "<style scoped>\n",
       "    .dataframe tbody tr th:only-of-type {\n",
       "        vertical-align: middle;\n",
       "    }\n",
       "\n",
       "    .dataframe tbody tr th {\n",
       "        vertical-align: top;\n",
       "    }\n",
       "\n",
       "    .dataframe thead th {\n",
       "        text-align: right;\n",
       "    }\n",
       "</style>\n",
       "<table border=\"1\" class=\"dataframe\">\n",
       "  <thead>\n",
       "    <tr style=\"text-align: right;\">\n",
       "      <th></th>\n",
       "      <th>cust_no</th>\n",
       "      <th>X1</th>\n",
       "      <th>X2</th>\n",
       "      <th>X3</th>\n",
       "      <th>X4</th>\n",
       "      <th>X5</th>\n",
       "      <th>X6</th>\n",
       "      <th>X7</th>\n",
       "      <th>X8</th>\n",
       "      <th>year</th>\n",
       "      <th>month</th>\n",
       "    </tr>\n",
       "  </thead>\n",
       "  <tbody>\n",
       "    <tr>\n",
       "      <th>0</th>\n",
       "      <td>0xb2d67148</td>\n",
       "      <td>0.0</td>\n",
       "      <td>0.0</td>\n",
       "      <td>0.00</td>\n",
       "      <td>0</td>\n",
       "      <td>0.0</td>\n",
       "      <td>0.0</td>\n",
       "      <td>0.0</td>\n",
       "      <td>0</td>\n",
       "      <td>2019</td>\n",
       "      <td>10</td>\n",
       "    </tr>\n",
       "    <tr>\n",
       "      <th>1</th>\n",
       "      <td>0xb2d06707</td>\n",
       "      <td>0.0</td>\n",
       "      <td>0.0</td>\n",
       "      <td>0.00</td>\n",
       "      <td>0</td>\n",
       "      <td>0.0</td>\n",
       "      <td>0.0</td>\n",
       "      <td>0.0</td>\n",
       "      <td>0</td>\n",
       "      <td>2019</td>\n",
       "      <td>10</td>\n",
       "    </tr>\n",
       "    <tr>\n",
       "      <th>2</th>\n",
       "      <td>0xb2d7a54f</td>\n",
       "      <td>0.0</td>\n",
       "      <td>0.0</td>\n",
       "      <td>0.00</td>\n",
       "      <td>0</td>\n",
       "      <td>0.0</td>\n",
       "      <td>0.0</td>\n",
       "      <td>0.0</td>\n",
       "      <td>0</td>\n",
       "      <td>2019</td>\n",
       "      <td>10</td>\n",
       "    </tr>\n",
       "    <tr>\n",
       "      <th>3</th>\n",
       "      <td>0xb2d3d976</td>\n",
       "      <td>27000.0</td>\n",
       "      <td>0.0</td>\n",
       "      <td>25037.87</td>\n",
       "      <td>50000</td>\n",
       "      <td>0.0</td>\n",
       "      <td>0.0</td>\n",
       "      <td>0.0</td>\n",
       "      <td>0</td>\n",
       "      <td>2019</td>\n",
       "      <td>10</td>\n",
       "    </tr>\n",
       "    <tr>\n",
       "      <th>4</th>\n",
       "      <td>0xb2d1abaf</td>\n",
       "      <td>0.0</td>\n",
       "      <td>0.0</td>\n",
       "      <td>0.00</td>\n",
       "      <td>0</td>\n",
       "      <td>0.0</td>\n",
       "      <td>0.0</td>\n",
       "      <td>0.0</td>\n",
       "      <td>0</td>\n",
       "      <td>2019</td>\n",
       "      <td>10</td>\n",
       "    </tr>\n",
       "  </tbody>\n",
       "</table>\n",
       "</div>"
      ],
      "text/plain": [
       "      cust_no       X1   X2        X3     X4   X5   X6   X7  X8  year  month\n",
       "0  0xb2d67148      0.0  0.0      0.00      0  0.0  0.0  0.0   0  2019     10\n",
       "1  0xb2d06707      0.0  0.0      0.00      0  0.0  0.0  0.0   0  2019     10\n",
       "2  0xb2d7a54f      0.0  0.0      0.00      0  0.0  0.0  0.0   0  2019     10\n",
       "3  0xb2d3d976  27000.0  0.0  25037.87  50000  0.0  0.0  0.0   0  2019     10\n",
       "4  0xb2d1abaf      0.0  0.0      0.00      0  0.0  0.0  0.0   0  2019     10"
      ]
     },
     "execution_count": 5,
     "metadata": {},
     "output_type": "execute_result"
    }
   ],
   "source": [
    "aum = pd.read_pickle('data/aum_month.pkl')\n",
    "aum.head()"
   ]
  },
  {
   "cell_type": "code",
   "execution_count": 6,
   "metadata": {},
   "outputs": [
    {
     "name": "stdout",
     "output_type": "stream",
     "text": [
      "<class 'pandas.core.frame.DataFrame'>\n",
      "RangeIndex: 4829297 entries, 0 to 4829296\n",
      "Data columns (total 11 columns):\n",
      " #   Column   Dtype  \n",
      "---  ------   -----  \n",
      " 0   cust_no  object \n",
      " 1   X1       float64\n",
      " 2   X2       float64\n",
      " 3   X3       float64\n",
      " 4   X4       int64  \n",
      " 5   X5       float64\n",
      " 6   X6       float64\n",
      " 7   X7       float64\n",
      " 8   X8       int64  \n",
      " 9   year     int64  \n",
      " 10  month    int64  \n",
      "dtypes: float64(6), int64(4), object(1)\n",
      "memory usage: 405.3+ MB\n"
     ]
    }
   ],
   "source": [
    "aum.info()"
   ]
  },
  {
   "cell_type": "code",
   "execution_count": 7,
   "metadata": {},
   "outputs": [
    {
     "data": {
      "text/html": [
       "<div>\n",
       "<style scoped>\n",
       "    .dataframe tbody tr th:only-of-type {\n",
       "        vertical-align: middle;\n",
       "    }\n",
       "\n",
       "    .dataframe tbody tr th {\n",
       "        vertical-align: top;\n",
       "    }\n",
       "\n",
       "    .dataframe thead th {\n",
       "        text-align: right;\n",
       "    }\n",
       "</style>\n",
       "<table border=\"1\" class=\"dataframe\">\n",
       "  <thead>\n",
       "    <tr style=\"text-align: right;\">\n",
       "      <th></th>\n",
       "      <th>X1</th>\n",
       "      <th>X2</th>\n",
       "      <th>X3</th>\n",
       "      <th>X4</th>\n",
       "      <th>X5</th>\n",
       "      <th>X6</th>\n",
       "      <th>X7</th>\n",
       "      <th>X8</th>\n",
       "      <th>year</th>\n",
       "      <th>month</th>\n",
       "    </tr>\n",
       "  </thead>\n",
       "  <tbody>\n",
       "    <tr>\n",
       "      <th>count</th>\n",
       "      <td>4.829297e+06</td>\n",
       "      <td>4.829297e+06</td>\n",
       "      <td>4.829297e+06</td>\n",
       "      <td>4.829297e+06</td>\n",
       "      <td>4.829297e+06</td>\n",
       "      <td>4.829297e+06</td>\n",
       "      <td>4.829297e+06</td>\n",
       "      <td>4.829297e+06</td>\n",
       "      <td>4.829297e+06</td>\n",
       "      <td>4.829297e+06</td>\n",
       "    </tr>\n",
       "    <tr>\n",
       "      <th>mean</th>\n",
       "      <td>4.713779e+04</td>\n",
       "      <td>3.328802e+03</td>\n",
       "      <td>5.195052e+03</td>\n",
       "      <td>3.846162e+03</td>\n",
       "      <td>2.063686e+02</td>\n",
       "      <td>3.710618e+02</td>\n",
       "      <td>6.122424e+04</td>\n",
       "      <td>1.112194e+04</td>\n",
       "      <td>2.019377e+03</td>\n",
       "      <td>6.750904e+00</td>\n",
       "    </tr>\n",
       "    <tr>\n",
       "      <th>std</th>\n",
       "      <td>1.562907e+06</td>\n",
       "      <td>5.300424e+05</td>\n",
       "      <td>2.334613e+05</td>\n",
       "      <td>1.072641e+05</td>\n",
       "      <td>1.300463e+04</td>\n",
       "      <td>4.104441e+04</td>\n",
       "      <td>6.380637e+05</td>\n",
       "      <td>2.038743e+05</td>\n",
       "      <td>4.845721e-01</td>\n",
       "      <td>3.922939e+00</td>\n",
       "    </tr>\n",
       "    <tr>\n",
       "      <th>min</th>\n",
       "      <td>0.000000e+00</td>\n",
       "      <td>0.000000e+00</td>\n",
       "      <td>0.000000e+00</td>\n",
       "      <td>0.000000e+00</td>\n",
       "      <td>-1.770000e+00</td>\n",
       "      <td>0.000000e+00</td>\n",
       "      <td>0.000000e+00</td>\n",
       "      <td>0.000000e+00</td>\n",
       "      <td>2.019000e+03</td>\n",
       "      <td>1.000000e+00</td>\n",
       "    </tr>\n",
       "    <tr>\n",
       "      <th>25%</th>\n",
       "      <td>0.000000e+00</td>\n",
       "      <td>0.000000e+00</td>\n",
       "      <td>0.000000e+00</td>\n",
       "      <td>0.000000e+00</td>\n",
       "      <td>0.000000e+00</td>\n",
       "      <td>0.000000e+00</td>\n",
       "      <td>0.000000e+00</td>\n",
       "      <td>0.000000e+00</td>\n",
       "      <td>2.019000e+03</td>\n",
       "      <td>3.000000e+00</td>\n",
       "    </tr>\n",
       "    <tr>\n",
       "      <th>50%</th>\n",
       "      <td>0.000000e+00</td>\n",
       "      <td>0.000000e+00</td>\n",
       "      <td>0.000000e+00</td>\n",
       "      <td>0.000000e+00</td>\n",
       "      <td>0.000000e+00</td>\n",
       "      <td>0.000000e+00</td>\n",
       "      <td>0.000000e+00</td>\n",
       "      <td>0.000000e+00</td>\n",
       "      <td>2.019000e+03</td>\n",
       "      <td>8.000000e+00</td>\n",
       "    </tr>\n",
       "    <tr>\n",
       "      <th>75%</th>\n",
       "      <td>0.000000e+00</td>\n",
       "      <td>0.000000e+00</td>\n",
       "      <td>5.030000e+00</td>\n",
       "      <td>0.000000e+00</td>\n",
       "      <td>0.000000e+00</td>\n",
       "      <td>0.000000e+00</td>\n",
       "      <td>0.000000e+00</td>\n",
       "      <td>0.000000e+00</td>\n",
       "      <td>2.020000e+03</td>\n",
       "      <td>1.000000e+01</td>\n",
       "    </tr>\n",
       "    <tr>\n",
       "      <th>max</th>\n",
       "      <td>3.470000e+08</td>\n",
       "      <td>3.372508e+08</td>\n",
       "      <td>1.420225e+08</td>\n",
       "      <td>6.800000e+07</td>\n",
       "      <td>1.000000e+07</td>\n",
       "      <td>4.086245e+07</td>\n",
       "      <td>3.475000e+07</td>\n",
       "      <td>1.500000e+08</td>\n",
       "      <td>2.020000e+03</td>\n",
       "      <td>1.200000e+01</td>\n",
       "    </tr>\n",
       "  </tbody>\n",
       "</table>\n",
       "</div>"
      ],
      "text/plain": [
       "                 X1            X2            X3            X4            X5  \\\n",
       "count  4.829297e+06  4.829297e+06  4.829297e+06  4.829297e+06  4.829297e+06   \n",
       "mean   4.713779e+04  3.328802e+03  5.195052e+03  3.846162e+03  2.063686e+02   \n",
       "std    1.562907e+06  5.300424e+05  2.334613e+05  1.072641e+05  1.300463e+04   \n",
       "min    0.000000e+00  0.000000e+00  0.000000e+00  0.000000e+00 -1.770000e+00   \n",
       "25%    0.000000e+00  0.000000e+00  0.000000e+00  0.000000e+00  0.000000e+00   \n",
       "50%    0.000000e+00  0.000000e+00  0.000000e+00  0.000000e+00  0.000000e+00   \n",
       "75%    0.000000e+00  0.000000e+00  5.030000e+00  0.000000e+00  0.000000e+00   \n",
       "max    3.470000e+08  3.372508e+08  1.420225e+08  6.800000e+07  1.000000e+07   \n",
       "\n",
       "                 X6            X7            X8          year         month  \n",
       "count  4.829297e+06  4.829297e+06  4.829297e+06  4.829297e+06  4.829297e+06  \n",
       "mean   3.710618e+02  6.122424e+04  1.112194e+04  2.019377e+03  6.750904e+00  \n",
       "std    4.104441e+04  6.380637e+05  2.038743e+05  4.845721e-01  3.922939e+00  \n",
       "min    0.000000e+00  0.000000e+00  0.000000e+00  2.019000e+03  1.000000e+00  \n",
       "25%    0.000000e+00  0.000000e+00  0.000000e+00  2.019000e+03  3.000000e+00  \n",
       "50%    0.000000e+00  0.000000e+00  0.000000e+00  2.019000e+03  8.000000e+00  \n",
       "75%    0.000000e+00  0.000000e+00  0.000000e+00  2.020000e+03  1.000000e+01  \n",
       "max    4.086245e+07  3.475000e+07  1.500000e+08  2.020000e+03  1.200000e+01  "
      ]
     },
     "execution_count": 7,
     "metadata": {},
     "output_type": "execute_result"
    }
   ],
   "source": [
    "aum.describe()"
   ]
  },
  {
   "cell_type": "code",
   "execution_count": 8,
   "metadata": {},
   "outputs": [
    {
     "data": {
      "text/plain": [
       "cust_no    0.0\n",
       "X1         0.0\n",
       "X2         0.0\n",
       "X3         0.0\n",
       "X4         0.0\n",
       "X5         0.0\n",
       "X6         0.0\n",
       "X7         0.0\n",
       "X8         0.0\n",
       "year       0.0\n",
       "month      0.0\n",
       "dtype: float64"
      ]
     },
     "execution_count": 8,
     "metadata": {},
     "output_type": "execute_result"
    }
   ],
   "source": [
    "aum.isna().sum() / aum.shape[0]"
   ]
  },
  {
   "cell_type": "markdown",
   "metadata": {},
   "source": [
    "# 2. 月户行为数据\n",
    "* cust_no：用户id\n",
    "* B1：手机银行登录次数\n",
    "* B2：转账转入次数\n",
    "* B3：转账转入金额\n",
    "* B4：转账转出次数\n",
    "* B5：转账转出金额\n",
    "* B6：最近一次交易时间（3,6,9,12月有）\n",
    "* B7：季度内动账次数（3,6,9,12月有）"
   ]
  },
  {
   "cell_type": "code",
   "execution_count": 9,
   "metadata": {},
   "outputs": [
    {
     "data": {
      "text/html": [
       "<div>\n",
       "<style scoped>\n",
       "    .dataframe tbody tr th:only-of-type {\n",
       "        vertical-align: middle;\n",
       "    }\n",
       "\n",
       "    .dataframe tbody tr th {\n",
       "        vertical-align: top;\n",
       "    }\n",
       "\n",
       "    .dataframe thead th {\n",
       "        text-align: right;\n",
       "    }\n",
       "</style>\n",
       "<table border=\"1\" class=\"dataframe\">\n",
       "  <thead>\n",
       "    <tr style=\"text-align: right;\">\n",
       "      <th></th>\n",
       "      <th>cust_no</th>\n",
       "      <th>B1</th>\n",
       "      <th>B2</th>\n",
       "      <th>B3</th>\n",
       "      <th>B4</th>\n",
       "      <th>B5</th>\n",
       "      <th>year</th>\n",
       "      <th>month</th>\n",
       "      <th>B6</th>\n",
       "      <th>B7</th>\n",
       "    </tr>\n",
       "  </thead>\n",
       "  <tbody>\n",
       "    <tr>\n",
       "      <th>0</th>\n",
       "      <td>0xb2d5b142</td>\n",
       "      <td>0</td>\n",
       "      <td>1</td>\n",
       "      <td>2264.0</td>\n",
       "      <td>0</td>\n",
       "      <td>0.0</td>\n",
       "      <td>2019</td>\n",
       "      <td>11</td>\n",
       "      <td>NaT</td>\n",
       "      <td>NaN</td>\n",
       "    </tr>\n",
       "    <tr>\n",
       "      <th>1</th>\n",
       "      <td>0xb2d5e978</td>\n",
       "      <td>3</td>\n",
       "      <td>0</td>\n",
       "      <td>0.0</td>\n",
       "      <td>1</td>\n",
       "      <td>1633.0</td>\n",
       "      <td>2019</td>\n",
       "      <td>11</td>\n",
       "      <td>NaT</td>\n",
       "      <td>NaN</td>\n",
       "    </tr>\n",
       "    <tr>\n",
       "      <th>2</th>\n",
       "      <td>0xb2d55064</td>\n",
       "      <td>0</td>\n",
       "      <td>0</td>\n",
       "      <td>0.0</td>\n",
       "      <td>0</td>\n",
       "      <td>0.0</td>\n",
       "      <td>2019</td>\n",
       "      <td>11</td>\n",
       "      <td>NaT</td>\n",
       "      <td>NaN</td>\n",
       "    </tr>\n",
       "    <tr>\n",
       "      <th>3</th>\n",
       "      <td>0xb2d1a472</td>\n",
       "      <td>0</td>\n",
       "      <td>0</td>\n",
       "      <td>0.0</td>\n",
       "      <td>0</td>\n",
       "      <td>0.0</td>\n",
       "      <td>2019</td>\n",
       "      <td>11</td>\n",
       "      <td>NaT</td>\n",
       "      <td>NaN</td>\n",
       "    </tr>\n",
       "    <tr>\n",
       "      <th>4</th>\n",
       "      <td>0xb2d1d306</td>\n",
       "      <td>0</td>\n",
       "      <td>0</td>\n",
       "      <td>0.0</td>\n",
       "      <td>0</td>\n",
       "      <td>0.0</td>\n",
       "      <td>2019</td>\n",
       "      <td>11</td>\n",
       "      <td>NaT</td>\n",
       "      <td>NaN</td>\n",
       "    </tr>\n",
       "  </tbody>\n",
       "</table>\n",
       "</div>"
      ],
      "text/plain": [
       "      cust_no  B1  B2      B3  B4      B5  year  month  B6  B7\n",
       "0  0xb2d5b142   0   1  2264.0   0     0.0  2019     11 NaT NaN\n",
       "1  0xb2d5e978   3   0     0.0   1  1633.0  2019     11 NaT NaN\n",
       "2  0xb2d55064   0   0     0.0   0     0.0  2019     11 NaT NaN\n",
       "3  0xb2d1a472   0   0     0.0   0     0.0  2019     11 NaT NaN\n",
       "4  0xb2d1d306   0   0     0.0   0     0.0  2019     11 NaT NaN"
      ]
     },
     "execution_count": 9,
     "metadata": {},
     "output_type": "execute_result"
    }
   ],
   "source": [
    "behavior = pd.read_pickle('data/behavior_month.pkl')\n",
    "behavior.head()"
   ]
  },
  {
   "cell_type": "code",
   "execution_count": 10,
   "metadata": {},
   "outputs": [
    {
     "name": "stdout",
     "output_type": "stream",
     "text": [
      "<class 'pandas.core.frame.DataFrame'>\n",
      "RangeIndex: 4829297 entries, 0 to 4829296\n",
      "Data columns (total 10 columns):\n",
      " #   Column   Dtype         \n",
      "---  ------   -----         \n",
      " 0   cust_no  object        \n",
      " 1   B1       int64         \n",
      " 2   B2       int64         \n",
      " 3   B3       float64       \n",
      " 4   B4       int64         \n",
      " 5   B5       float64       \n",
      " 6   year     int64         \n",
      " 7   month    int64         \n",
      " 8   B6       datetime64[ns]\n",
      " 9   B7       float64       \n",
      "dtypes: datetime64[ns](1), float64(3), int64(5), object(1)\n",
      "memory usage: 368.4+ MB\n"
     ]
    }
   ],
   "source": [
    "behavior.info()"
   ]
  },
  {
   "cell_type": "code",
   "execution_count": 11,
   "metadata": {},
   "outputs": [
    {
     "data": {
      "text/html": [
       "<div>\n",
       "<style scoped>\n",
       "    .dataframe tbody tr th:only-of-type {\n",
       "        vertical-align: middle;\n",
       "    }\n",
       "\n",
       "    .dataframe tbody tr th {\n",
       "        vertical-align: top;\n",
       "    }\n",
       "\n",
       "    .dataframe thead th {\n",
       "        text-align: right;\n",
       "    }\n",
       "</style>\n",
       "<table border=\"1\" class=\"dataframe\">\n",
       "  <thead>\n",
       "    <tr style=\"text-align: right;\">\n",
       "      <th></th>\n",
       "      <th>B1</th>\n",
       "      <th>B2</th>\n",
       "      <th>B3</th>\n",
       "      <th>B4</th>\n",
       "      <th>B5</th>\n",
       "      <th>year</th>\n",
       "      <th>month</th>\n",
       "      <th>B7</th>\n",
       "    </tr>\n",
       "  </thead>\n",
       "  <tbody>\n",
       "    <tr>\n",
       "      <th>count</th>\n",
       "      <td>4.829297e+06</td>\n",
       "      <td>4.829297e+06</td>\n",
       "      <td>4.829297e+06</td>\n",
       "      <td>4.829297e+06</td>\n",
       "      <td>4.829297e+06</td>\n",
       "      <td>4.829297e+06</td>\n",
       "      <td>4.829297e+06</td>\n",
       "      <td>1.696888e+06</td>\n",
       "    </tr>\n",
       "    <tr>\n",
       "      <th>mean</th>\n",
       "      <td>9.359971e-01</td>\n",
       "      <td>2.568277e-01</td>\n",
       "      <td>3.475187e+04</td>\n",
       "      <td>1.732494e-01</td>\n",
       "      <td>2.445247e+04</td>\n",
       "      <td>2.019377e+03</td>\n",
       "      <td>6.750904e+00</td>\n",
       "      <td>3.908091e+00</td>\n",
       "    </tr>\n",
       "    <tr>\n",
       "      <th>std</th>\n",
       "      <td>5.149736e+00</td>\n",
       "      <td>3.622997e+00</td>\n",
       "      <td>1.678166e+06</td>\n",
       "      <td>4.131330e+00</td>\n",
       "      <td>1.434932e+06</td>\n",
       "      <td>4.845721e-01</td>\n",
       "      <td>3.922939e+00</td>\n",
       "      <td>2.949635e+01</td>\n",
       "    </tr>\n",
       "    <tr>\n",
       "      <th>min</th>\n",
       "      <td>0.000000e+00</td>\n",
       "      <td>0.000000e+00</td>\n",
       "      <td>0.000000e+00</td>\n",
       "      <td>0.000000e+00</td>\n",
       "      <td>0.000000e+00</td>\n",
       "      <td>2.019000e+03</td>\n",
       "      <td>1.000000e+00</td>\n",
       "      <td>0.000000e+00</td>\n",
       "    </tr>\n",
       "    <tr>\n",
       "      <th>25%</th>\n",
       "      <td>0.000000e+00</td>\n",
       "      <td>0.000000e+00</td>\n",
       "      <td>0.000000e+00</td>\n",
       "      <td>0.000000e+00</td>\n",
       "      <td>0.000000e+00</td>\n",
       "      <td>2.019000e+03</td>\n",
       "      <td>3.000000e+00</td>\n",
       "      <td>0.000000e+00</td>\n",
       "    </tr>\n",
       "    <tr>\n",
       "      <th>50%</th>\n",
       "      <td>0.000000e+00</td>\n",
       "      <td>0.000000e+00</td>\n",
       "      <td>0.000000e+00</td>\n",
       "      <td>0.000000e+00</td>\n",
       "      <td>0.000000e+00</td>\n",
       "      <td>2.019000e+03</td>\n",
       "      <td>8.000000e+00</td>\n",
       "      <td>0.000000e+00</td>\n",
       "    </tr>\n",
       "    <tr>\n",
       "      <th>75%</th>\n",
       "      <td>0.000000e+00</td>\n",
       "      <td>0.000000e+00</td>\n",
       "      <td>0.000000e+00</td>\n",
       "      <td>0.000000e+00</td>\n",
       "      <td>0.000000e+00</td>\n",
       "      <td>2.020000e+03</td>\n",
       "      <td>1.000000e+01</td>\n",
       "      <td>0.000000e+00</td>\n",
       "    </tr>\n",
       "    <tr>\n",
       "      <th>max</th>\n",
       "      <td>7.530000e+02</td>\n",
       "      <td>2.581000e+03</td>\n",
       "      <td>9.276983e+08</td>\n",
       "      <td>4.047000e+03</td>\n",
       "      <td>9.287193e+08</td>\n",
       "      <td>2.020000e+03</td>\n",
       "      <td>1.200000e+01</td>\n",
       "      <td>1.004200e+04</td>\n",
       "    </tr>\n",
       "  </tbody>\n",
       "</table>\n",
       "</div>"
      ],
      "text/plain": [
       "                 B1            B2            B3            B4            B5  \\\n",
       "count  4.829297e+06  4.829297e+06  4.829297e+06  4.829297e+06  4.829297e+06   \n",
       "mean   9.359971e-01  2.568277e-01  3.475187e+04  1.732494e-01  2.445247e+04   \n",
       "std    5.149736e+00  3.622997e+00  1.678166e+06  4.131330e+00  1.434932e+06   \n",
       "min    0.000000e+00  0.000000e+00  0.000000e+00  0.000000e+00  0.000000e+00   \n",
       "25%    0.000000e+00  0.000000e+00  0.000000e+00  0.000000e+00  0.000000e+00   \n",
       "50%    0.000000e+00  0.000000e+00  0.000000e+00  0.000000e+00  0.000000e+00   \n",
       "75%    0.000000e+00  0.000000e+00  0.000000e+00  0.000000e+00  0.000000e+00   \n",
       "max    7.530000e+02  2.581000e+03  9.276983e+08  4.047000e+03  9.287193e+08   \n",
       "\n",
       "               year         month            B7  \n",
       "count  4.829297e+06  4.829297e+06  1.696888e+06  \n",
       "mean   2.019377e+03  6.750904e+00  3.908091e+00  \n",
       "std    4.845721e-01  3.922939e+00  2.949635e+01  \n",
       "min    2.019000e+03  1.000000e+00  0.000000e+00  \n",
       "25%    2.019000e+03  3.000000e+00  0.000000e+00  \n",
       "50%    2.019000e+03  8.000000e+00  0.000000e+00  \n",
       "75%    2.020000e+03  1.000000e+01  0.000000e+00  \n",
       "max    2.020000e+03  1.200000e+01  1.004200e+04  "
      ]
     },
     "execution_count": 11,
     "metadata": {},
     "output_type": "execute_result"
    }
   ],
   "source": [
    "behavior.describe()"
   ]
  },
  {
   "cell_type": "code",
   "execution_count": 12,
   "metadata": {},
   "outputs": [
    {
     "data": {
      "text/plain": [
       "cust_no    0.000000\n",
       "B1         0.000000\n",
       "B2         0.000000\n",
       "B3         0.000000\n",
       "B4         0.000000\n",
       "B5         0.000000\n",
       "year       0.000000\n",
       "month      0.000000\n",
       "B6         0.914564\n",
       "B7         0.648626\n",
       "dtype: float64"
      ]
     },
     "execution_count": 12,
     "metadata": {},
     "output_type": "execute_result"
    }
   ],
   "source": [
    "behavior.isna().sum() / behavior.shape[0]"
   ]
  },
  {
   "cell_type": "markdown",
   "metadata": {},
   "source": [
    "# 3. 月户存款数据\n",
    "* cust_no\n",
    "* C1：存款产品金额\n",
    "* C2：存款产品个数"
   ]
  },
  {
   "cell_type": "code",
   "execution_count": 13,
   "metadata": {},
   "outputs": [
    {
     "data": {
      "text/html": [
       "<div>\n",
       "<style scoped>\n",
       "    .dataframe tbody tr th:only-of-type {\n",
       "        vertical-align: middle;\n",
       "    }\n",
       "\n",
       "    .dataframe tbody tr th {\n",
       "        vertical-align: top;\n",
       "    }\n",
       "\n",
       "    .dataframe thead th {\n",
       "        text-align: right;\n",
       "    }\n",
       "</style>\n",
       "<table border=\"1\" class=\"dataframe\">\n",
       "  <thead>\n",
       "    <tr style=\"text-align: right;\">\n",
       "      <th></th>\n",
       "      <th>cust_no</th>\n",
       "      <th>C1</th>\n",
       "      <th>C2</th>\n",
       "      <th>year</th>\n",
       "      <th>month</th>\n",
       "    </tr>\n",
       "  </thead>\n",
       "  <tbody>\n",
       "    <tr>\n",
       "      <th>0</th>\n",
       "      <td>0xb2d3ad96</td>\n",
       "      <td>231097.73</td>\n",
       "      <td>6</td>\n",
       "      <td>2019</td>\n",
       "      <td>11</td>\n",
       "    </tr>\n",
       "    <tr>\n",
       "      <th>1</th>\n",
       "      <td>0xb2d636da</td>\n",
       "      <td>600098.92</td>\n",
       "      <td>7</td>\n",
       "      <td>2019</td>\n",
       "      <td>11</td>\n",
       "    </tr>\n",
       "    <tr>\n",
       "      <th>2</th>\n",
       "      <td>0xb2d37469</td>\n",
       "      <td>0.00</td>\n",
       "      <td>1</td>\n",
       "      <td>2019</td>\n",
       "      <td>11</td>\n",
       "    </tr>\n",
       "    <tr>\n",
       "      <th>3</th>\n",
       "      <td>0xb2d636d4</td>\n",
       "      <td>0.31</td>\n",
       "      <td>1</td>\n",
       "      <td>2019</td>\n",
       "      <td>11</td>\n",
       "    </tr>\n",
       "    <tr>\n",
       "      <th>4</th>\n",
       "      <td>0xb2d3d20b</td>\n",
       "      <td>140007.62</td>\n",
       "      <td>3</td>\n",
       "      <td>2019</td>\n",
       "      <td>11</td>\n",
       "    </tr>\n",
       "  </tbody>\n",
       "</table>\n",
       "</div>"
      ],
      "text/plain": [
       "      cust_no         C1  C2  year  month\n",
       "0  0xb2d3ad96  231097.73   6  2019     11\n",
       "1  0xb2d636da  600098.92   7  2019     11\n",
       "2  0xb2d37469       0.00   1  2019     11\n",
       "3  0xb2d636d4       0.31   1  2019     11\n",
       "4  0xb2d3d20b  140007.62   3  2019     11"
      ]
     },
     "execution_count": 13,
     "metadata": {},
     "output_type": "execute_result"
    }
   ],
   "source": [
    "cunkuan = pd.read_pickle('data/cunkuan_month.pkl')\n",
    "cunkuan.head()"
   ]
  },
  {
   "cell_type": "code",
   "execution_count": 14,
   "metadata": {},
   "outputs": [
    {
     "name": "stdout",
     "output_type": "stream",
     "text": [
      "<class 'pandas.core.frame.DataFrame'>\n",
      "RangeIndex: 1989843 entries, 0 to 1989842\n",
      "Data columns (total 5 columns):\n",
      " #   Column   Dtype  \n",
      "---  ------   -----  \n",
      " 0   cust_no  object \n",
      " 1   C1       float64\n",
      " 2   C2       int64  \n",
      " 3   year     int64  \n",
      " 4   month    int64  \n",
      "dtypes: float64(1), int64(3), object(1)\n",
      "memory usage: 75.9+ MB\n"
     ]
    }
   ],
   "source": [
    "cunkuan.info()"
   ]
  },
  {
   "cell_type": "code",
   "execution_count": 15,
   "metadata": {},
   "outputs": [
    {
     "data": {
      "text/html": [
       "<div>\n",
       "<style scoped>\n",
       "    .dataframe tbody tr th:only-of-type {\n",
       "        vertical-align: middle;\n",
       "    }\n",
       "\n",
       "    .dataframe tbody tr th {\n",
       "        vertical-align: top;\n",
       "    }\n",
       "\n",
       "    .dataframe thead th {\n",
       "        text-align: right;\n",
       "    }\n",
       "</style>\n",
       "<table border=\"1\" class=\"dataframe\">\n",
       "  <thead>\n",
       "    <tr style=\"text-align: right;\">\n",
       "      <th></th>\n",
       "      <th>C1</th>\n",
       "      <th>C2</th>\n",
       "      <th>year</th>\n",
       "      <th>month</th>\n",
       "    </tr>\n",
       "  </thead>\n",
       "  <tbody>\n",
       "    <tr>\n",
       "      <th>count</th>\n",
       "      <td>1.989843e+06</td>\n",
       "      <td>1.989843e+06</td>\n",
       "      <td>1.989843e+06</td>\n",
       "      <td>1.989843e+06</td>\n",
       "    </tr>\n",
       "    <tr>\n",
       "      <th>mean</th>\n",
       "      <td>1.605409e+05</td>\n",
       "      <td>1.619737e+00</td>\n",
       "      <td>2.019377e+03</td>\n",
       "      <td>6.769590e+00</td>\n",
       "    </tr>\n",
       "    <tr>\n",
       "      <th>std</th>\n",
       "      <td>2.586990e+06</td>\n",
       "      <td>2.657780e+00</td>\n",
       "      <td>4.847154e-01</td>\n",
       "      <td>3.972314e+00</td>\n",
       "    </tr>\n",
       "    <tr>\n",
       "      <th>min</th>\n",
       "      <td>0.000000e+00</td>\n",
       "      <td>1.000000e+00</td>\n",
       "      <td>2.019000e+03</td>\n",
       "      <td>1.000000e+00</td>\n",
       "    </tr>\n",
       "    <tr>\n",
       "      <th>25%</th>\n",
       "      <td>1.000000e+00</td>\n",
       "      <td>1.000000e+00</td>\n",
       "      <td>2.019000e+03</td>\n",
       "      <td>3.000000e+00</td>\n",
       "    </tr>\n",
       "    <tr>\n",
       "      <th>50%</th>\n",
       "      <td>3.200000e+01</td>\n",
       "      <td>1.000000e+00</td>\n",
       "      <td>2.019000e+03</td>\n",
       "      <td>8.000000e+00</td>\n",
       "    </tr>\n",
       "    <tr>\n",
       "      <th>75%</th>\n",
       "      <td>3.541355e+03</td>\n",
       "      <td>1.000000e+00</td>\n",
       "      <td>2.020000e+03</td>\n",
       "      <td>1.000000e+01</td>\n",
       "    </tr>\n",
       "    <tr>\n",
       "      <th>max</th>\n",
       "      <td>3.470000e+08</td>\n",
       "      <td>4.130000e+02</td>\n",
       "      <td>2.020000e+03</td>\n",
       "      <td>1.200000e+01</td>\n",
       "    </tr>\n",
       "  </tbody>\n",
       "</table>\n",
       "</div>"
      ],
      "text/plain": [
       "                 C1            C2          year         month\n",
       "count  1.989843e+06  1.989843e+06  1.989843e+06  1.989843e+06\n",
       "mean   1.605409e+05  1.619737e+00  2.019377e+03  6.769590e+00\n",
       "std    2.586990e+06  2.657780e+00  4.847154e-01  3.972314e+00\n",
       "min    0.000000e+00  1.000000e+00  2.019000e+03  1.000000e+00\n",
       "25%    1.000000e+00  1.000000e+00  2.019000e+03  3.000000e+00\n",
       "50%    3.200000e+01  1.000000e+00  2.019000e+03  8.000000e+00\n",
       "75%    3.541355e+03  1.000000e+00  2.020000e+03  1.000000e+01\n",
       "max    3.470000e+08  4.130000e+02  2.020000e+03  1.200000e+01"
      ]
     },
     "execution_count": 15,
     "metadata": {},
     "output_type": "execute_result"
    }
   ],
   "source": [
    "cunkuan.describe()"
   ]
  },
  {
   "cell_type": "code",
   "execution_count": 16,
   "metadata": {},
   "outputs": [
    {
     "data": {
      "text/plain": [
       "cust_no    0.0\n",
       "C1         0.0\n",
       "C2         0.0\n",
       "year       0.0\n",
       "month      0.0\n",
       "dtype: float64"
      ]
     },
     "execution_count": 16,
     "metadata": {},
     "output_type": "execute_result"
    }
   ],
   "source": [
    "cunkuan.isna().sum() / cunkuan.shape[0]"
   ]
  },
  {
   "cell_type": "markdown",
   "metadata": {},
   "source": [
    "# 4. 用户重要事件\n",
    "* cust_no：用户id\n",
    "* E1：开户日期\n",
    "* E2：网银开户日期\n",
    "* E3：手机app开户日期\n",
    "* E4：第一次登陆网银日期\n",
    "* E5：第一次手机app登录日期\n",
    "* E6：第一次活期存款业务日期\n",
    "* E7：第一次定期存款业务日期\n",
    "* E8：第一次贷款业务日期\n",
    "* E9：第一次逾期日期\n",
    "* E10：第一次资金业务交易日期\n",
    "* E11：第一次银证转账日期\n",
    "* E12：第一次柜台转账日期\n",
    "* E13：第一次网银转账日期\n",
    "* E14：第一次手机app转账日期\n",
    "* E15：转出他行最大一笔金额\n",
    "* E16：转出他行最大一笔金额发生日期\n",
    "* E17：他行转入最大一笔金额\n",
    "* E18：他行转入最大一笔金额发生日期"
   ]
  },
  {
   "cell_type": "code",
   "execution_count": 17,
   "metadata": {},
   "outputs": [
    {
     "data": {
      "text/html": [
       "<div>\n",
       "<style scoped>\n",
       "    .dataframe tbody tr th:only-of-type {\n",
       "        vertical-align: middle;\n",
       "    }\n",
       "\n",
       "    .dataframe tbody tr th {\n",
       "        vertical-align: top;\n",
       "    }\n",
       "\n",
       "    .dataframe thead th {\n",
       "        text-align: right;\n",
       "    }\n",
       "</style>\n",
       "<table border=\"1\" class=\"dataframe\">\n",
       "  <thead>\n",
       "    <tr style=\"text-align: right;\">\n",
       "      <th></th>\n",
       "      <th>cust_no</th>\n",
       "      <th>E1</th>\n",
       "      <th>E2</th>\n",
       "      <th>E3</th>\n",
       "      <th>E4</th>\n",
       "      <th>E5</th>\n",
       "      <th>E6</th>\n",
       "      <th>E7</th>\n",
       "      <th>E8</th>\n",
       "      <th>E9</th>\n",
       "      <th>E10</th>\n",
       "      <th>E11</th>\n",
       "      <th>E12</th>\n",
       "      <th>E13</th>\n",
       "      <th>E14</th>\n",
       "      <th>E15</th>\n",
       "      <th>E16</th>\n",
       "      <th>E17</th>\n",
       "      <th>E18</th>\n",
       "      <th>year</th>\n",
       "      <th>season</th>\n",
       "    </tr>\n",
       "  </thead>\n",
       "  <tbody>\n",
       "    <tr>\n",
       "      <th>0</th>\n",
       "      <td>0xb2d53438</td>\n",
       "      <td>2018-08-06</td>\n",
       "      <td>NaT</td>\n",
       "      <td>NaT</td>\n",
       "      <td>NaT</td>\n",
       "      <td>NaT</td>\n",
       "      <td>NaT</td>\n",
       "      <td>NaT</td>\n",
       "      <td>NaT</td>\n",
       "      <td>NaT</td>\n",
       "      <td>NaT</td>\n",
       "      <td>NaT</td>\n",
       "      <td>NaT</td>\n",
       "      <td>NaT</td>\n",
       "      <td>NaT</td>\n",
       "      <td>0.0</td>\n",
       "      <td>NaT</td>\n",
       "      <td>0.0</td>\n",
       "      <td>NaT</td>\n",
       "      <td>2019</td>\n",
       "      <td>4</td>\n",
       "    </tr>\n",
       "    <tr>\n",
       "      <th>1</th>\n",
       "      <td>0xb2d10cbd</td>\n",
       "      <td>2015-10-20</td>\n",
       "      <td>2015-10-20</td>\n",
       "      <td>2015-10-20</td>\n",
       "      <td>2015-10-27</td>\n",
       "      <td>NaT</td>\n",
       "      <td>NaT</td>\n",
       "      <td>NaT</td>\n",
       "      <td>NaT</td>\n",
       "      <td>NaT</td>\n",
       "      <td>2016-02-03</td>\n",
       "      <td>NaT</td>\n",
       "      <td>NaT</td>\n",
       "      <td>NaT</td>\n",
       "      <td>NaT</td>\n",
       "      <td>0.0</td>\n",
       "      <td>NaT</td>\n",
       "      <td>120000.0</td>\n",
       "      <td>2015-10-22</td>\n",
       "      <td>2019</td>\n",
       "      <td>4</td>\n",
       "    </tr>\n",
       "    <tr>\n",
       "      <th>2</th>\n",
       "      <td>0xb2d594c5</td>\n",
       "      <td>2018-09-25</td>\n",
       "      <td>2018-09-25</td>\n",
       "      <td>2018-09-25</td>\n",
       "      <td>NaT</td>\n",
       "      <td>NaT</td>\n",
       "      <td>NaT</td>\n",
       "      <td>NaT</td>\n",
       "      <td>NaT</td>\n",
       "      <td>NaT</td>\n",
       "      <td>NaT</td>\n",
       "      <td>NaT</td>\n",
       "      <td>NaT</td>\n",
       "      <td>NaT</td>\n",
       "      <td>NaT</td>\n",
       "      <td>0.0</td>\n",
       "      <td>NaT</td>\n",
       "      <td>0.0</td>\n",
       "      <td>NaT</td>\n",
       "      <td>2019</td>\n",
       "      <td>4</td>\n",
       "    </tr>\n",
       "    <tr>\n",
       "      <th>3</th>\n",
       "      <td>0xb2d9ee51</td>\n",
       "      <td>2019-11-19</td>\n",
       "      <td>2019-11-19</td>\n",
       "      <td>2019-11-19</td>\n",
       "      <td>NaT</td>\n",
       "      <td>NaT</td>\n",
       "      <td>NaT</td>\n",
       "      <td>NaT</td>\n",
       "      <td>NaT</td>\n",
       "      <td>NaT</td>\n",
       "      <td>NaT</td>\n",
       "      <td>NaT</td>\n",
       "      <td>NaT</td>\n",
       "      <td>NaT</td>\n",
       "      <td>NaT</td>\n",
       "      <td>0.0</td>\n",
       "      <td>NaT</td>\n",
       "      <td>0.0</td>\n",
       "      <td>NaT</td>\n",
       "      <td>2019</td>\n",
       "      <td>4</td>\n",
       "    </tr>\n",
       "    <tr>\n",
       "      <th>4</th>\n",
       "      <td>0xb2d7bb80</td>\n",
       "      <td>2019-08-14</td>\n",
       "      <td>NaT</td>\n",
       "      <td>NaT</td>\n",
       "      <td>NaT</td>\n",
       "      <td>NaT</td>\n",
       "      <td>NaT</td>\n",
       "      <td>NaT</td>\n",
       "      <td>NaT</td>\n",
       "      <td>NaT</td>\n",
       "      <td>NaT</td>\n",
       "      <td>NaT</td>\n",
       "      <td>NaT</td>\n",
       "      <td>NaT</td>\n",
       "      <td>NaT</td>\n",
       "      <td>0.0</td>\n",
       "      <td>NaT</td>\n",
       "      <td>0.0</td>\n",
       "      <td>NaT</td>\n",
       "      <td>2019</td>\n",
       "      <td>4</td>\n",
       "    </tr>\n",
       "  </tbody>\n",
       "</table>\n",
       "</div>"
      ],
      "text/plain": [
       "      cust_no         E1         E2         E3         E4  E5  E6  E7  E8  E9  \\\n",
       "0  0xb2d53438 2018-08-06        NaT        NaT        NaT NaT NaT NaT NaT NaT   \n",
       "1  0xb2d10cbd 2015-10-20 2015-10-20 2015-10-20 2015-10-27 NaT NaT NaT NaT NaT   \n",
       "2  0xb2d594c5 2018-09-25 2018-09-25 2018-09-25        NaT NaT NaT NaT NaT NaT   \n",
       "3  0xb2d9ee51 2019-11-19 2019-11-19 2019-11-19        NaT NaT NaT NaT NaT NaT   \n",
       "4  0xb2d7bb80 2019-08-14        NaT        NaT        NaT NaT NaT NaT NaT NaT   \n",
       "\n",
       "         E10 E11 E12 E13 E14  E15 E16       E17        E18  year  season  \n",
       "0        NaT NaT NaT NaT NaT  0.0 NaT       0.0        NaT  2019       4  \n",
       "1 2016-02-03 NaT NaT NaT NaT  0.0 NaT  120000.0 2015-10-22  2019       4  \n",
       "2        NaT NaT NaT NaT NaT  0.0 NaT       0.0        NaT  2019       4  \n",
       "3        NaT NaT NaT NaT NaT  0.0 NaT       0.0        NaT  2019       4  \n",
       "4        NaT NaT NaT NaT NaT  0.0 NaT       0.0        NaT  2019       4  "
      ]
     },
     "execution_count": 17,
     "metadata": {},
     "output_type": "execute_result"
    }
   ],
   "source": [
    "event = pd.read_pickle('data/event_season.pkl')\n",
    "event.head()"
   ]
  },
  {
   "cell_type": "code",
   "execution_count": 18,
   "metadata": {},
   "outputs": [
    {
     "name": "stdout",
     "output_type": "stream",
     "text": [
      "<class 'pandas.core.frame.DataFrame'>\n",
      "RangeIndex: 1696888 entries, 0 to 1696887\n",
      "Data columns (total 21 columns):\n",
      " #   Column   Dtype         \n",
      "---  ------   -----         \n",
      " 0   cust_no  object        \n",
      " 1   E1       datetime64[ns]\n",
      " 2   E2       datetime64[ns]\n",
      " 3   E3       datetime64[ns]\n",
      " 4   E4       datetime64[ns]\n",
      " 5   E5       datetime64[ns]\n",
      " 6   E6       datetime64[ns]\n",
      " 7   E7       datetime64[ns]\n",
      " 8   E8       datetime64[ns]\n",
      " 9   E9       datetime64[ns]\n",
      " 10  E10      datetime64[ns]\n",
      " 11  E11      datetime64[ns]\n",
      " 12  E12      datetime64[ns]\n",
      " 13  E13      datetime64[ns]\n",
      " 14  E14      datetime64[ns]\n",
      " 15  E15      float64       \n",
      " 16  E16      datetime64[ns]\n",
      " 17  E17      float64       \n",
      " 18  E18      datetime64[ns]\n",
      " 19  year     int64         \n",
      " 20  season   int64         \n",
      "dtypes: datetime64[ns](16), float64(2), int64(2), object(1)\n",
      "memory usage: 271.9+ MB\n"
     ]
    }
   ],
   "source": [
    "event.info()"
   ]
  },
  {
   "cell_type": "code",
   "execution_count": 19,
   "metadata": {},
   "outputs": [
    {
     "data": {
      "text/html": [
       "<div>\n",
       "<style scoped>\n",
       "    .dataframe tbody tr th:only-of-type {\n",
       "        vertical-align: middle;\n",
       "    }\n",
       "\n",
       "    .dataframe tbody tr th {\n",
       "        vertical-align: top;\n",
       "    }\n",
       "\n",
       "    .dataframe thead th {\n",
       "        text-align: right;\n",
       "    }\n",
       "</style>\n",
       "<table border=\"1\" class=\"dataframe\">\n",
       "  <thead>\n",
       "    <tr style=\"text-align: right;\">\n",
       "      <th></th>\n",
       "      <th>E15</th>\n",
       "      <th>E17</th>\n",
       "      <th>year</th>\n",
       "      <th>season</th>\n",
       "    </tr>\n",
       "  </thead>\n",
       "  <tbody>\n",
       "    <tr>\n",
       "      <th>count</th>\n",
       "      <td>1.696888e+06</td>\n",
       "      <td>1.696888e+06</td>\n",
       "      <td>1.696888e+06</td>\n",
       "      <td>1.696888e+06</td>\n",
       "    </tr>\n",
       "    <tr>\n",
       "      <th>mean</th>\n",
       "      <td>1.378506e+05</td>\n",
       "      <td>1.263142e+05</td>\n",
       "      <td>2.019389e+03</td>\n",
       "      <td>2.543031e+00</td>\n",
       "    </tr>\n",
       "    <tr>\n",
       "      <th>std</th>\n",
       "      <td>1.745257e+06</td>\n",
       "      <td>2.022830e+06</td>\n",
       "      <td>4.874609e-01</td>\n",
       "      <td>1.290955e+00</td>\n",
       "    </tr>\n",
       "    <tr>\n",
       "      <th>min</th>\n",
       "      <td>0.000000e+00</td>\n",
       "      <td>0.000000e+00</td>\n",
       "      <td>2.019000e+03</td>\n",
       "      <td>1.000000e+00</td>\n",
       "    </tr>\n",
       "    <tr>\n",
       "      <th>25%</th>\n",
       "      <td>0.000000e+00</td>\n",
       "      <td>0.000000e+00</td>\n",
       "      <td>2.019000e+03</td>\n",
       "      <td>1.000000e+00</td>\n",
       "    </tr>\n",
       "    <tr>\n",
       "      <th>50%</th>\n",
       "      <td>0.000000e+00</td>\n",
       "      <td>0.000000e+00</td>\n",
       "      <td>2.019000e+03</td>\n",
       "      <td>3.000000e+00</td>\n",
       "    </tr>\n",
       "    <tr>\n",
       "      <th>75%</th>\n",
       "      <td>0.000000e+00</td>\n",
       "      <td>0.000000e+00</td>\n",
       "      <td>2.020000e+03</td>\n",
       "      <td>4.000000e+00</td>\n",
       "    </tr>\n",
       "    <tr>\n",
       "      <th>max</th>\n",
       "      <td>3.000000e+08</td>\n",
       "      <td>5.000000e+08</td>\n",
       "      <td>2.020000e+03</td>\n",
       "      <td>4.000000e+00</td>\n",
       "    </tr>\n",
       "  </tbody>\n",
       "</table>\n",
       "</div>"
      ],
      "text/plain": [
       "                E15           E17          year        season\n",
       "count  1.696888e+06  1.696888e+06  1.696888e+06  1.696888e+06\n",
       "mean   1.378506e+05  1.263142e+05  2.019389e+03  2.543031e+00\n",
       "std    1.745257e+06  2.022830e+06  4.874609e-01  1.290955e+00\n",
       "min    0.000000e+00  0.000000e+00  2.019000e+03  1.000000e+00\n",
       "25%    0.000000e+00  0.000000e+00  2.019000e+03  1.000000e+00\n",
       "50%    0.000000e+00  0.000000e+00  2.019000e+03  3.000000e+00\n",
       "75%    0.000000e+00  0.000000e+00  2.020000e+03  4.000000e+00\n",
       "max    3.000000e+08  5.000000e+08  2.020000e+03  4.000000e+00"
      ]
     },
     "execution_count": 19,
     "metadata": {},
     "output_type": "execute_result"
    }
   ],
   "source": [
    "event.describe()"
   ]
  },
  {
   "cell_type": "code",
   "execution_count": 20,
   "metadata": {},
   "outputs": [
    {
     "data": {
      "text/plain": [
       "cust_no    0.000000\n",
       "E1         0.000017\n",
       "E2         0.408660\n",
       "E3         0.408660\n",
       "E4         0.902738\n",
       "E5         0.749899\n",
       "E6         0.671930\n",
       "E7         0.995268\n",
       "E8         0.930072\n",
       "E9         0.996435\n",
       "E10        0.611257\n",
       "E11        1.000000\n",
       "E12        0.934218\n",
       "E13        0.961892\n",
       "E14        0.849890\n",
       "E15        0.000000\n",
       "E16        0.834413\n",
       "E17        0.000000\n",
       "E18        0.824670\n",
       "year       0.000000\n",
       "season     0.000000\n",
       "dtype: float64"
      ]
     },
     "execution_count": 20,
     "metadata": {},
     "output_type": "execute_result"
    }
   ],
   "source": [
    "event.isna().sum() / event.shape[0]"
   ]
  },
  {
   "cell_type": "markdown",
   "metadata": {},
   "source": [
    "# 5. 用户信息\n",
    "* cust_no：用户id\n",
    "* I1：性别\n",
    "* I2：年龄\n",
    "* I3：客户等级\n",
    "* I4：本行员工标志\n",
    "* I5：职业描述\n",
    "* I6：我行贷款客户标签\n",
    "* I7：本行产品持有数\n",
    "* I8：星座描述\n",
    "* I9：客户贡献度\n",
    "* I10：学历描述\n",
    "* I11：家庭年收入\n",
    "* I12：行业描述\n",
    "* I13：婚姻状况描述\n",
    "* I14：职务描述\n",
    "* I15：二维码收单客户标志\n",
    "* I16：vip客户标志\n",
    "* I17：网银客户标志\n",
    "* I18：手机银行客户标志\n",
    "* I19：短信客户\n",
    "* I20：微信支付客户标志"
   ]
  },
  {
   "cell_type": "code",
   "execution_count": 21,
   "metadata": {},
   "outputs": [
    {
     "data": {
      "text/html": [
       "<div>\n",
       "<style scoped>\n",
       "    .dataframe tbody tr th:only-of-type {\n",
       "        vertical-align: middle;\n",
       "    }\n",
       "\n",
       "    .dataframe tbody tr th {\n",
       "        vertical-align: top;\n",
       "    }\n",
       "\n",
       "    .dataframe thead th {\n",
       "        text-align: right;\n",
       "    }\n",
       "</style>\n",
       "<table border=\"1\" class=\"dataframe\">\n",
       "  <thead>\n",
       "    <tr style=\"text-align: right;\">\n",
       "      <th></th>\n",
       "      <th>cust_no</th>\n",
       "      <th>I1</th>\n",
       "      <th>I2</th>\n",
       "      <th>I3</th>\n",
       "      <th>I4</th>\n",
       "      <th>I5</th>\n",
       "      <th>I6</th>\n",
       "      <th>I7</th>\n",
       "      <th>I8</th>\n",
       "      <th>I9</th>\n",
       "      <th>I10</th>\n",
       "      <th>I11</th>\n",
       "      <th>I12</th>\n",
       "      <th>I13</th>\n",
       "      <th>I14</th>\n",
       "      <th>I15</th>\n",
       "      <th>I16</th>\n",
       "      <th>I17</th>\n",
       "      <th>I18</th>\n",
       "      <th>I19</th>\n",
       "      <th>I20</th>\n",
       "      <th>year</th>\n",
       "      <th>season</th>\n",
       "    </tr>\n",
       "  </thead>\n",
       "  <tbody>\n",
       "    <tr>\n",
       "      <th>0</th>\n",
       "      <td>0xb2d5fd8e</td>\n",
       "      <td>男性</td>\n",
       "      <td>26</td>\n",
       "      <td>普通客户</td>\n",
       "      <td>0.0</td>\n",
       "      <td>商业工作人员</td>\n",
       "      <td>0</td>\n",
       "      <td>0</td>\n",
       "      <td>白羊座</td>\n",
       "      <td>NaN</td>\n",
       "      <td>NaN</td>\n",
       "      <td>0.0</td>\n",
       "      <td>个人</td>\n",
       "      <td>NaN</td>\n",
       "      <td>NaN</td>\n",
       "      <td>0</td>\n",
       "      <td>0.0</td>\n",
       "      <td>1</td>\n",
       "      <td>1</td>\n",
       "      <td>1</td>\n",
       "      <td>0</td>\n",
       "      <td>2020</td>\n",
       "      <td>1</td>\n",
       "    </tr>\n",
       "    <tr>\n",
       "      <th>1</th>\n",
       "      <td>0xb2d811d2</td>\n",
       "      <td>男性</td>\n",
       "      <td>25</td>\n",
       "      <td>普通客户</td>\n",
       "      <td>0.0</td>\n",
       "      <td>不便分类的其他从业人员</td>\n",
       "      <td>0</td>\n",
       "      <td>0</td>\n",
       "      <td>天蝎座</td>\n",
       "      <td>NaN</td>\n",
       "      <td>未知</td>\n",
       "      <td>0.0</td>\n",
       "      <td>个人</td>\n",
       "      <td>未说明的婚姻状况</td>\n",
       "      <td>未知</td>\n",
       "      <td>0</td>\n",
       "      <td>0.0</td>\n",
       "      <td>0</td>\n",
       "      <td>0</td>\n",
       "      <td>0</td>\n",
       "      <td>0</td>\n",
       "      <td>2020</td>\n",
       "      <td>1</td>\n",
       "    </tr>\n",
       "    <tr>\n",
       "      <th>2</th>\n",
       "      <td>0xb2d8b1c8</td>\n",
       "      <td>女性</td>\n",
       "      <td>43</td>\n",
       "      <td>普通客户</td>\n",
       "      <td>0.0</td>\n",
       "      <td>商业工作人员</td>\n",
       "      <td>0</td>\n",
       "      <td>0</td>\n",
       "      <td>水瓶座</td>\n",
       "      <td>NaN</td>\n",
       "      <td>NaN</td>\n",
       "      <td>0.0</td>\n",
       "      <td>个人</td>\n",
       "      <td>NaN</td>\n",
       "      <td>NaN</td>\n",
       "      <td>0</td>\n",
       "      <td>0.0</td>\n",
       "      <td>0</td>\n",
       "      <td>0</td>\n",
       "      <td>0</td>\n",
       "      <td>0</td>\n",
       "      <td>2020</td>\n",
       "      <td>1</td>\n",
       "    </tr>\n",
       "    <tr>\n",
       "      <th>3</th>\n",
       "      <td>0xb2db077a</td>\n",
       "      <td>女性</td>\n",
       "      <td>58</td>\n",
       "      <td>普通客户</td>\n",
       "      <td>0.0</td>\n",
       "      <td>服务性工作人员</td>\n",
       "      <td>0</td>\n",
       "      <td>0</td>\n",
       "      <td>双鱼座</td>\n",
       "      <td>NaN</td>\n",
       "      <td>NaN</td>\n",
       "      <td>0.0</td>\n",
       "      <td>个人</td>\n",
       "      <td>NaN</td>\n",
       "      <td>NaN</td>\n",
       "      <td>0</td>\n",
       "      <td>0.0</td>\n",
       "      <td>1</td>\n",
       "      <td>1</td>\n",
       "      <td>1</td>\n",
       "      <td>0</td>\n",
       "      <td>2020</td>\n",
       "      <td>1</td>\n",
       "    </tr>\n",
       "    <tr>\n",
       "      <th>4</th>\n",
       "      <td>0xb2da6784</td>\n",
       "      <td>男性</td>\n",
       "      <td>24</td>\n",
       "      <td>普通客户</td>\n",
       "      <td>0.0</td>\n",
       "      <td>服务性工作人员</td>\n",
       "      <td>0</td>\n",
       "      <td>0</td>\n",
       "      <td>双子座</td>\n",
       "      <td>NaN</td>\n",
       "      <td>NaN</td>\n",
       "      <td>0.0</td>\n",
       "      <td>个人</td>\n",
       "      <td>NaN</td>\n",
       "      <td>NaN</td>\n",
       "      <td>0</td>\n",
       "      <td>0.0</td>\n",
       "      <td>1</td>\n",
       "      <td>1</td>\n",
       "      <td>1</td>\n",
       "      <td>0</td>\n",
       "      <td>2020</td>\n",
       "      <td>1</td>\n",
       "    </tr>\n",
       "  </tbody>\n",
       "</table>\n",
       "</div>"
      ],
      "text/plain": [
       "      cust_no  I1  I2    I3   I4           I5  I6  I7   I8  I9  I10  I11 I12  \\\n",
       "0  0xb2d5fd8e  男性  26  普通客户  0.0       商业工作人员   0   0  白羊座 NaN  NaN  0.0  个人   \n",
       "1  0xb2d811d2  男性  25  普通客户  0.0  不便分类的其他从业人员   0   0  天蝎座 NaN   未知  0.0  个人   \n",
       "2  0xb2d8b1c8  女性  43  普通客户  0.0       商业工作人员   0   0  水瓶座 NaN  NaN  0.0  个人   \n",
       "3  0xb2db077a  女性  58  普通客户  0.0      服务性工作人员   0   0  双鱼座 NaN  NaN  0.0  个人   \n",
       "4  0xb2da6784  男性  24  普通客户  0.0      服务性工作人员   0   0  双子座 NaN  NaN  0.0  个人   \n",
       "\n",
       "        I13  I14  I15  I16  I17  I18  I19  I20  year  season  \n",
       "0       NaN  NaN    0  0.0    1    1    1    0  2020       1  \n",
       "1  未说明的婚姻状况   未知    0  0.0    0    0    0    0  2020       1  \n",
       "2       NaN  NaN    0  0.0    0    0    0    0  2020       1  \n",
       "3       NaN  NaN    0  0.0    1    1    1    0  2020       1  \n",
       "4       NaN  NaN    0  0.0    1    1    1    0  2020       1  "
      ]
     },
     "execution_count": 21,
     "metadata": {},
     "output_type": "execute_result"
    }
   ],
   "source": [
    "info = pd.read_pickle('data/custinfo_season.pkl')\n",
    "info.head()"
   ]
  },
  {
   "cell_type": "code",
   "execution_count": 22,
   "metadata": {},
   "outputs": [
    {
     "name": "stdout",
     "output_type": "stream",
     "text": [
      "<class 'pandas.core.frame.DataFrame'>\n",
      "RangeIndex: 1696888 entries, 0 to 1696887\n",
      "Data columns (total 23 columns):\n",
      " #   Column   Dtype  \n",
      "---  ------   -----  \n",
      " 0   cust_no  object \n",
      " 1   I1       object \n",
      " 2   I2       int64  \n",
      " 3   I3       object \n",
      " 4   I4       float64\n",
      " 5   I5       object \n",
      " 6   I6       int64  \n",
      " 7   I7       int64  \n",
      " 8   I8       object \n",
      " 9   I9       float64\n",
      " 10  I10      object \n",
      " 11  I11      float64\n",
      " 12  I12      object \n",
      " 13  I13      object \n",
      " 14  I14      object \n",
      " 15  I15      int64  \n",
      " 16  I16      float64\n",
      " 17  I17      int64  \n",
      " 18  I18      int64  \n",
      " 19  I19      int64  \n",
      " 20  I20      int64  \n",
      " 21  year     int64  \n",
      " 22  season   int64  \n",
      "dtypes: float64(4), int64(10), object(9)\n",
      "memory usage: 297.8+ MB\n"
     ]
    }
   ],
   "source": [
    "info.info()"
   ]
  },
  {
   "cell_type": "code",
   "execution_count": 23,
   "metadata": {},
   "outputs": [
    {
     "data": {
      "text/plain": [
       "cust_no    0.000000\n",
       "I1         0.111567\n",
       "I2         0.000000\n",
       "I3         0.000017\n",
       "I4         0.000017\n",
       "I5         0.184554\n",
       "I6         0.000000\n",
       "I7         0.000000\n",
       "I8         0.000017\n",
       "I9         1.000000\n",
       "I10        0.818054\n",
       "I11        0.000000\n",
       "I12        0.000335\n",
       "I13        0.898683\n",
       "I14        0.830501\n",
       "I15        0.000000\n",
       "I16        0.000017\n",
       "I17        0.000000\n",
       "I18        0.000000\n",
       "I19        0.000000\n",
       "I20        0.000000\n",
       "year       0.000000\n",
       "season     0.000000\n",
       "dtype: float64"
      ]
     },
     "execution_count": 23,
     "metadata": {},
     "output_type": "execute_result"
    }
   ],
   "source": [
    "info.isna().sum() / info.shape[0]"
   ]
  },
  {
   "cell_type": "code",
   "execution_count": 24,
   "metadata": {},
   "outputs": [
    {
     "data": {
      "text/plain": [
       "男性    0.533950\n",
       "女性    0.354483\n",
       "Name: I1, dtype: float64"
      ]
     },
     "execution_count": 24,
     "metadata": {},
     "output_type": "execute_result"
    }
   ],
   "source": [
    "info.I1.value_counts() / info.shape[0]"
   ]
  },
  {
   "cell_type": "code",
   "execution_count": 25,
   "metadata": {},
   "outputs": [
    {
     "data": {
      "text/plain": [
       "count    1.696888e+06\n",
       "mean     3.875972e+01\n",
       "std      1.941020e+01\n",
       "min     -7.954000e+03\n",
       "25%      2.800000e+01\n",
       "50%      3.500000e+01\n",
       "75%      4.700000e+01\n",
       "max      1.020000e+03\n",
       "Name: I2, dtype: float64"
      ]
     },
     "execution_count": 25,
     "metadata": {},
     "output_type": "execute_result"
    }
   ],
   "source": [
    "info.I2.describe()"
   ]
  },
  {
   "cell_type": "code",
   "execution_count": 26,
   "metadata": {},
   "outputs": [
    {
     "data": {
      "text/plain": [
       "<AxesSubplot:xlabel='I2', ylabel='count'>"
      ]
     },
     "execution_count": 26,
     "metadata": {},
     "output_type": "execute_result"
    },
    {
     "data": {
      "image/png": "[encoded data removed]",
      "text/plain": [
       "<Figure size 432x288 with 1 Axes>"
      ]
     },
     "metadata": {
      "needs_background": "light"
     },
     "output_type": "display_data"
    }
   ],
   "source": [
    "sns.countplot(info.I2)"
   ]
  },
  {
   "cell_type": "code",
   "execution_count": 27,
   "metadata": {},
   "outputs": [
    {
     "data": {
      "text/plain": [
       "普通客户    0.924596\n",
       "黄金      0.055663\n",
       "白金      0.017824\n",
       "钻石      0.001900\n",
       "Name: I3, dtype: float64"
      ]
     },
     "execution_count": 27,
     "metadata": {},
     "output_type": "execute_result"
    }
   ],
   "source": [
    "info.I3.value_counts() / info.shape[0]"
   ]
  },
  {
   "cell_type": "code",
   "execution_count": 28,
   "metadata": {},
   "outputs": [
    {
     "data": {
      "text/plain": [
       "0.0    0.989613\n",
       "1.0    0.010370\n",
       "Name: I4, dtype: float64"
      ]
     },
     "execution_count": 28,
     "metadata": {},
     "output_type": "execute_result"
    }
   ],
   "source": [
    "info.I4.value_counts() / info.shape[0]"
   ]
  },
  {
   "cell_type": "code",
   "execution_count": 29,
   "metadata": {},
   "outputs": [
    {
     "data": {
      "text/plain": [
       "不便分类的其他从业人员             0.268447\n",
       "商业工作人员                  0.158838\n",
       "服务性工作人员                 0.138897\n",
       "办事人员和有关人员               0.070128\n",
       "专业技术人员                  0.061339\n",
       "国家机关、党群组织、企业、事业单位负责人    0.045222\n",
       "生产、运输设备操作人员及有关人员        0.036641\n",
       "未知                      0.019794\n",
       "农、林、牧、渔、水利业生产人员         0.010155\n",
       "私营业主                    0.004920\n",
       "军人                      0.000738\n",
       "退休                      0.000143\n",
       "主妇                      0.000092\n",
       "公司管理人员                  0.000041\n",
       "执行官                     0.000019\n",
       "公务员                     0.000011\n",
       "其他                      0.000006\n",
       "业主/自营企业                 0.000005\n",
       "总监/经理                   0.000004\n",
       "会计师                     0.000002\n",
       "工程师                     0.000002\n",
       "公司职员                    0.000002\n",
       "Name: I5, dtype: float64"
      ]
     },
     "execution_count": 29,
     "metadata": {},
     "output_type": "execute_result"
    }
   ],
   "source": [
    "info.I5.value_counts() / info.shape[0]"
   ]
  },
  {
   "cell_type": "code",
   "execution_count": 30,
   "metadata": {},
   "outputs": [
    {
     "data": {
      "text/plain": [
       "0    0.928346\n",
       "1    0.071654\n",
       "Name: I6, dtype: float64"
      ]
     },
     "execution_count": 30,
     "metadata": {},
     "output_type": "execute_result"
    }
   ],
   "source": [
    "info.I6.value_counts() / info.shape[0]"
   ]
  },
  {
   "cell_type": "code",
   "execution_count": 31,
   "metadata": {},
   "outputs": [
    {
     "data": {
      "text/plain": [
       "count    1696888.0\n",
       "mean           0.0\n",
       "std            0.0\n",
       "min            0.0\n",
       "25%            0.0\n",
       "50%            0.0\n",
       "75%            0.0\n",
       "max            0.0\n",
       "Name: I7, dtype: float64"
      ]
     },
     "execution_count": 31,
     "metadata": {},
     "output_type": "execute_result"
    }
   ],
   "source": [
    "info.I7.describe()"
   ]
  },
  {
   "cell_type": "code",
   "execution_count": 32,
   "metadata": {},
   "outputs": [
    {
     "data": {
      "text/plain": [
       "天秤座    0.103292\n",
       "天蝎座    0.093110\n",
       "处女座    0.089751\n",
       "狮子座    0.085260\n",
       "摩羯座    0.084485\n",
       "双鱼座    0.081481\n",
       "水瓶座    0.081120\n",
       "射手座    0.080857\n",
       "巨蟹座    0.078371\n",
       "双子座    0.076332\n",
       "金牛座    0.074851\n",
       "白羊座    0.071071\n",
       "Name: I8, dtype: float64"
      ]
     },
     "execution_count": 32,
     "metadata": {},
     "output_type": "execute_result"
    }
   ],
   "source": [
    "info.I8.value_counts() / info.shape[0]"
   ]
  },
  {
   "cell_type": "code",
   "execution_count": 33,
   "metadata": {},
   "outputs": [
    {
     "data": {
      "text/plain": [
       "count    0.0\n",
       "mean     NaN\n",
       "std      NaN\n",
       "min      NaN\n",
       "25%      NaN\n",
       "50%      NaN\n",
       "75%      NaN\n",
       "max      NaN\n",
       "Name: I9, dtype: float64"
      ]
     },
     "execution_count": 33,
     "metadata": {},
     "output_type": "execute_result"
    }
   ],
   "source": [
    "info.I9.describe()"
   ]
  },
  {
   "cell_type": "code",
   "execution_count": 34,
   "metadata": {},
   "outputs": [
    {
     "data": {
      "text/plain": [
       "未知          0.095681\n",
       "大学本科        0.031427\n",
       "专科教育        0.019219\n",
       "普通高级中学教育    0.012321\n",
       "初级中学教育      0.008760\n",
       "中等职业教育      0.007656\n",
       "研究生教育       0.004350\n",
       "小学教育        0.002165\n",
       "技工学校毕业      0.000321\n",
       "文盲或半文盲      0.000047\n",
       "Name: I10, dtype: float64"
      ]
     },
     "execution_count": 34,
     "metadata": {},
     "output_type": "execute_result"
    }
   ],
   "source": [
    "info.I10.value_counts() / info.shape[0]"
   ]
  },
  {
   "cell_type": "code",
   "execution_count": 35,
   "metadata": {},
   "outputs": [
    {
     "data": {
      "text/plain": [
       "count    1.696888e+06\n",
       "mean     3.521752e+04\n",
       "std      7.545359e+05\n",
       "min      0.000000e+00\n",
       "25%      0.000000e+00\n",
       "50%      0.000000e+00\n",
       "75%      0.000000e+00\n",
       "max      3.774878e+08\n",
       "Name: I11, dtype: float64"
      ]
     },
     "execution_count": 35,
     "metadata": {},
     "output_type": "execute_result"
    }
   ],
   "source": [
    "info.I11.describe()"
   ]
  },
  {
   "cell_type": "code",
   "execution_count": 36,
   "metadata": {},
   "outputs": [
    {
     "data": {
      "text/plain": [
       "个人                  0.999645\n",
       "农业                  0.000004\n",
       "批发业                 0.000004\n",
       "文教、工美、体育和娱乐用品制造业    0.000002\n",
       "建材批发                0.000002\n",
       "专业技术服务业             0.000002\n",
       "零售业                 0.000002\n",
       "公共设施管理业             0.000002\n",
       "房地产开发经营             0.000002\n",
       "林业                  0.000002\n",
       "Name: I12, dtype: float64"
      ]
     },
     "execution_count": 36,
     "metadata": {},
     "output_type": "execute_result"
    }
   ],
   "source": [
    "info.I12.value_counts() / info.shape[0]"
   ]
  },
  {
   "cell_type": "code",
   "execution_count": 37,
   "metadata": {},
   "outputs": [
    {
     "data": {
      "text/plain": [
       "未说明的婚姻状况    0.089057\n",
       "已婚          0.006964\n",
       "未婚          0.005002\n",
       "离婚          0.000204\n",
       "其他          0.000069\n",
       "丧偶          0.000021\n",
       "Name: I13, dtype: float64"
      ]
     },
     "execution_count": 37,
     "metadata": {},
     "output_type": "execute_result"
    }
   ],
   "source": [
    "info.I13.value_counts() / info.shape[0]"
   ]
  },
  {
   "cell_type": "code",
   "execution_count": 38,
   "metadata": {},
   "outputs": [
    {
     "data": {
      "text/plain": [
       "未知                                0.089357\n",
       "高级领导(行政级别局级及局级以上领导或大公司高级管理人员)     0.036348\n",
       "其他                                0.014964\n",
       "一般员工                              0.014910\n",
       "中级领导(行政级别局级以下处级以上领导或大公司中级管理人员)    0.011370\n",
       "初级领导(行政级别处级以下领导或大公司初级管理人员)        0.002549\n",
       "Name: I14, dtype: float64"
      ]
     },
     "execution_count": 38,
     "metadata": {},
     "output_type": "execute_result"
    }
   ],
   "source": [
    "info.I14.value_counts() / info.shape[0]"
   ]
  },
  {
   "cell_type": "code",
   "execution_count": 39,
   "metadata": {},
   "outputs": [
    {
     "data": {
      "text/plain": [
       "0    0.994785\n",
       "1    0.005215\n",
       "Name: I15, dtype: float64"
      ]
     },
     "execution_count": 39,
     "metadata": {},
     "output_type": "execute_result"
    }
   ],
   "source": [
    "info.I15.value_counts() / info.shape[0]"
   ]
  },
  {
   "cell_type": "code",
   "execution_count": 40,
   "metadata": {},
   "outputs": [
    {
     "data": {
      "text/plain": [
       "0.0    0.924596\n",
       "1.0    0.075387\n",
       "Name: I16, dtype: float64"
      ]
     },
     "execution_count": 40,
     "metadata": {},
     "output_type": "execute_result"
    }
   ],
   "source": [
    "info.I16.value_counts() / info.shape[0]"
   ]
  },
  {
   "cell_type": "code",
   "execution_count": 41,
   "metadata": {},
   "outputs": [
    {
     "data": {
      "text/plain": [
       "1    0.593063\n",
       "0    0.406937\n",
       "Name: I17, dtype: float64"
      ]
     },
     "execution_count": 41,
     "metadata": {},
     "output_type": "execute_result"
    }
   ],
   "source": [
    "info.I17.value_counts() / info.shape[0]"
   ]
  },
  {
   "cell_type": "code",
   "execution_count": 42,
   "metadata": {},
   "outputs": [
    {
     "data": {
      "text/plain": [
       "1    0.593063\n",
       "0    0.406937\n",
       "Name: I18, dtype: float64"
      ]
     },
     "execution_count": 42,
     "metadata": {},
     "output_type": "execute_result"
    }
   ],
   "source": [
    "info.I18.value_counts() / info.shape[0]"
   ]
  },
  {
   "cell_type": "code",
   "execution_count": 43,
   "metadata": {},
   "outputs": [
    {
     "data": {
      "text/plain": [
       "1    0.697756\n",
       "0    0.302244\n",
       "Name: I19, dtype: float64"
      ]
     },
     "execution_count": 43,
     "metadata": {},
     "output_type": "execute_result"
    }
   ],
   "source": [
    "info.I19.value_counts() / info.shape[0]"
   ]
  },
  {
   "cell_type": "code",
   "execution_count": 44,
   "metadata": {},
   "outputs": [
    {
     "data": {
      "text/plain": [
       "0    0.884761\n",
       "1    0.115239\n",
       "Name: I20, dtype: float64"
      ]
     },
     "execution_count": 44,
     "metadata": {},
     "output_type": "execute_result"
    }
   ],
   "source": [
    "info.I20.value_counts() / info.shape[0]"
   ]
  }
 ],
 "metadata": {
  "kernelspec": {
   "display_name": "Python 3",
   "language": "python",
   "name": "python3"
  },
  "language_info": {
   "codemirror_mode": {
    "name": "ipython",
    "version": 3
   },
   "file_extension": ".py",
   "mimetype": "text/x-python",
   "name": "python",
   "nbconvert_exporter": "python",
   "pygments_lexer": "ipython3",
   "version": "3.7.9"
  }
 },
 "nbformat": 4,
 "nbformat_minor": 4
}
